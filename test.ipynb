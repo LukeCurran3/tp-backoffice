{
 "cells": [
  {
   "cell_type": "code",
   "execution_count": 32,
   "id": "12790c5f",
   "metadata": {},
   "outputs": [],
   "source": [
    "from pymongo import MongoClient\n",
    "import os\n",
    "import pandas as pd\n",
    "from neo4j import GraphDatabase"
   ]
  },
  {
   "cell_type": "code",
   "execution_count": 31,
   "id": "43cdeda1",
   "metadata": {},
   "outputs": [],
   "source": [
    "print(\"hola\")"
   ]
  },
  {
   "cell_type": "code",
   "execution_count": 33,
   "id": "71b8522d",
   "metadata": {},
   "outputs": [],
   "source": [
    "mongo = MongoClient(os.getenv(\"MONGO_URI\", \"mongodb://localhost:27017\"))"
   ]
  },
  {
   "cell_type": "code",
   "execution_count": 34,
   "id": "5f448654",
   "metadata": {},
   "outputs": [],
   "source": [
    "mdb = mongo[\"backoffice\"]"
   ]
  },
  {
   "cell_type": "code",
   "execution_count": 36,
   "id": "eb23eddc",
   "metadata": {},
   "outputs": [],
   "source": [
    "df_prov = pd.read_csv(\"data/proveedor.csv\",encoding=\"Windows 1252\",sep=\";\")\n",
    "df_tel  = pd.read_csv(\"data/telefono.csv\",encoding=\"Windows 1252\",sep=\";\")\n",
    "df_prod = pd.read_csv(\"data/producto.csv\",encoding=\"Windows 1252\",sep=\";\")\n",
    "df_op   = pd.read_csv(\"data/op.csv\",encoding=\"Windows 1252\",sep=\";\")\n",
    "df_det  = pd.read_csv(\"data/detalle_op.csv\",encoding=\"Windows 1252\",sep=\";\")"
   ]
  },
  {
   "cell_type": "code",
   "execution_count": null,
   "id": "2bbc284d",
   "metadata": {},
   "outputs": [],
   "source": [
    "res = pd.merge(df_prov,df_tel, on=\"id_proveedor\",how=\"inner\")\n",
    "proveedores = res.groupby(\"id_proveedor\").apply(lambda g: {\n",
    "    'id_proveedor': int(g['id_proveedor'].iloc[0]),\n",
    "    \"CUIT_proveedor\": int(g[\"CUIT_proveedor\"].iloc[0]),\n",
    "    \"razon_social\":g[\"razon_social\"].iloc[0],\n",
    "    \"tipo_sociedad\":g[\"tipo_sociedad\"].iloc[0] ,\n",
    "    \"direccion\":g[\"direccion\"].iloc[0] , \n",
    "    \"activo\" :int(g[\"activo\"].iloc[0]),\n",
    "    \"habilitado\":int(g[\"habilitado\"].iloc[0]),\n",
    "    \"telefonos\": g[['codigo_area', 'nro_telefono', 'tipo']].to_dict(orient='records')\n",
    "}).reset_index(name='document')[\"document\"].to_list()"
   ]
  },
  {
   "cell_type": "code",
   "execution_count": null,
   "id": "8049a272",
   "metadata": {},
   "outputs": [],
   "source": [
    "res = pd.merge(df_op,df_det,on=\"id_pedido\",how=\"inner\")\n",
    "ordenes = res.groupby('id_pedido').apply(lambda g: {\n",
    "    \"id_pedido\": int(g['id_pedido'].iloc[0]),\n",
    "    'id_proveedor': int(g['id_proveedor'].iloc[0]),\n",
    "    'fecha': g['fecha'].iloc[0],\n",
    "    'iva': float(g['iva'].iloc[0]),\n",
    "    'items': g[['id_producto', 'nro_item', 'cantidad']].to_dict(orient='records')\n",
    "}).reset_index(name='document')[\"document\"].to_list()"
   ]
  },
  {
   "cell_type": "code",
   "execution_count": null,
   "id": "d10679f1",
   "metadata": {},
   "outputs": [],
   "source": [
    "\n",
    "def import_mongo():\n",
    "\n",
    "    mdb.proveedores.delete_many({})\n",
    "    mdb.proveedores.insert_many(proveedores)\n",
    "\n",
    "    mdb.productos.delete_many({})\n",
    "    mdb.productos.insert_many(df_prod.to_dict(\"records\"))\n",
    "    \n",
    "\n",
    "    mdb.ordenes.delete_many({})\n",
    "    mdb.ordenes.insert_many(ordenes)\n",
    "\n",
    "    \n",
    "import_mongo()"
   ]
  },
  {
   "cell_type": "code",
   "execution_count": 58,
   "id": "1c50d9fa",
   "metadata": {},
   "outputs": [],
   "source": [
    "uri = os.getenv(\"NEO4J_URI\", \"bolt://localhost:7687\")\n",
    "neo = GraphDatabase.driver(uri, auth=(\"neo4j\", os.getenv(\"NEO4J_PASSWORD\", \"epicpassword123\")))"
   ]
  },
  {
   "cell_type": "code",
   "execution_count": 71,
   "id": "b86004c6",
   "metadata": {},
   "outputs": [],
   "source": [
    "def import_neo4j():\n",
    "    with neo.session() as sess:\n",
    "        sess.run(\"MATCH (n) DETACH DELETE n\")\n",
    "        # proveedores\n",
    "        df = pd.read_csv(\"data/proveedor.csv\",encoding=\"Windows 1252\",sep=\";\")\n",
    "        for _,r in df.iterrows():\n",
    "            sess.run(\"\"\"\n",
    "                CREATE (p:Proveedor {\n",
    "                  id_proveedor:$id_proveedor,\n",
    "                  cuit: $CUIT_proveedor,\n",
    "                  razon_social: $razon_social,\n",
    "                  activo: $activo,\n",
    "                  habilitado: $habilitado\n",
    "                })\n",
    "            \"\"\", **r.to_dict())\n",
    "\n",
    "        # RELACIÓN TELEFONO\n",
    "        df = pd.read_csv(\"data/telefono.csv\",encoding=\"Windows 1252\",sep=\";\")\n",
    "        for _,r in df.iterrows():\n",
    "            sess.run(\"\"\"\n",
    "                MATCH (p:Proveedor {id_proveedor: $id_proveedor})\n",
    "                CREATE (p)-[:TIENE_TELEFONO {numero:$telefono}]->(:Telefono)\n",
    "            \"\"\", id_proveedor=r.id_proveedor, telefono=r.nro_telefono)\n",
    "\n",
    "        # productos\n",
    "        df = pd.read_csv(\"data/producto.csv\",encoding=\"Windows 1252\",sep=\";\")\n",
    "        for _,r in df.iterrows():\n",
    "            sess.run(\"\"\"\n",
    "                CREATE (:Producto {\n",
    "                  codigo: $id_producto,\n",
    "                  nombre: $descripcion,\n",
    "                  marca: $marca,\n",
    "                  precio: $precio\n",
    "                })\n",
    "            \"\"\", **r.to_dict())\n",
    "\n",
    "        # ordenes y detalles\n",
    "        df_op = pd.read_csv(\"data/op.csv\",encoding=\"Windows 1252\",sep=\";\")\n",
    "        df_op[\"fecha\"] = pd.to_datetime(df_op[\"fecha\"], dayfirst=True).dt.strftime(\"%Y-%m-%d\")\n",
    "        df_det= pd.read_csv(\"data/detalle_op.csv\",encoding=\"Windows 1252\",sep=\";\")\n",
    "        \n",
    "        for _,o in df_op.iterrows():\n",
    "            sess.run(\"\"\"\n",
    "                CREATE (o:Orden {\n",
    "                     id_pedido:$id_pedido,\n",
    "                     id_proveedor:$id_proveedor,\n",
    "                     iva:$iva,\n",
    "                  fecha: date($fecha)\n",
    "                })\n",
    "                WITH o\n",
    "                MATCH (p:Proveedor {id_proveedor:$id_proveedor})\n",
    "                CREATE (o) - [:LE_COMPRA_A] -> (p)\n",
    "            \"\"\", **o.to_dict())\n",
    "\n",
    "        #Orden tiene (3 de este) producto\n",
    "        \n",
    "        for _,detalle in df_det.iterrows():\n",
    "            sess.run(\"\"\"\n",
    "                MATCH (o:Orden {id_pedido:$id_pedido})\n",
    "                MATCH (p:Producto {codigo: $id_producto})\n",
    "                CREATE (o)-[:REALIZA_PEDIDO {cantidad: $cantidad}] -> (p)\n",
    "            \"\"\", **detalle.to_dict())\n",
    "\n",
    "\n",
    "        for _,d in df_det.iterrows():\n",
    "            sess.run(\"\"\"\n",
    "                MATCH (o:Orden {id_pedido:$id_pedido,id_producto:$id_producto}), (pr:Producto {codigo:$id_producto})\n",
    "                CREATE (o)-[:CONTiene {cantidad:$cantidad}]->(pr)\n",
    "            \"\"\", **d.to_dict())\n",
    "import_neo4j()"
   ]
  }
 ],
 "metadata": {
  "kernelspec": {
   "display_name": ".venv",
   "language": "python",
   "name": "python3"
  },
  "language_info": {
   "codemirror_mode": {
    "name": "ipython",
    "version": 3
   },
   "file_extension": ".py",
   "mimetype": "text/x-python",
   "name": "python",
   "nbconvert_exporter": "python",
   "pygments_lexer": "ipython3",
   "version": "3.12.0"
  }
 },
 "nbformat": 4,
 "nbformat_minor": 5
}
