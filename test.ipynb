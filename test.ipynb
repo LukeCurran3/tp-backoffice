{
 "cells": [
  {
   "cell_type": "code",
   "execution_count": 5,
   "id": "28fb9c91c9a46822",
   "metadata": {
    "ExecuteTime": {
     "end_time": "2025-06-20T14:42:35.461410Z",
     "start_time": "2025-06-20T14:42:08.831487Z"
    },
    "collapsed": false
   },
   "outputs": [
    {
     "name": "stdout",
     "output_type": "stream",
     "text": [
      "Requirement already satisfied: pymongo in /Users/nicolastordomar/.local/share/virtualenvs/SIA_TP0-TADzP-Rd/lib/python3.11/site-packages (4.13.2)\r\n",
      "Requirement already satisfied: dnspython<3.0.0,>=1.16.0 in /Users/nicolastordomar/.local/share/virtualenvs/SIA_TP0-TADzP-Rd/lib/python3.11/site-packages (from pymongo) (2.7.0)\r\n",
      "\r\n",
      "\u001b[1m[\u001b[0m\u001b[34;49mnotice\u001b[0m\u001b[1;39;49m]\u001b[0m\u001b[39;49m A new release of pip is available: \u001b[0m\u001b[31;49m24.0\u001b[0m\u001b[39;49m -> \u001b[0m\u001b[32;49m25.1.1\u001b[0m\r\n",
      "\u001b[1m[\u001b[0m\u001b[34;49mnotice\u001b[0m\u001b[1;39;49m]\u001b[0m\u001b[39;49m To update, run: \u001b[0m\u001b[32;49mpip install --upgrade pip\u001b[0m\r\n",
      "Collecting neo4j\r\n",
      "  Downloading neo4j-5.28.1-py3-none-any.whl.metadata (5.9 kB)\r\n",
      "Requirement already satisfied: pytz in /Users/nicolastordomar/.local/share/virtualenvs/SIA_TP0-TADzP-Rd/lib/python3.11/site-packages (from neo4j) (2023.3)\r\n",
      "Downloading neo4j-5.28.1-py3-none-any.whl (312 kB)\r\n",
      "\u001b[2K   \u001b[90m━━━━━━━━━━━━━━━━━━━━━━━━━━━━━━━━━━━━━━━━\u001b[0m \u001b[32m312.3/312.3 kB\u001b[0m \u001b[31m2.7 MB/s\u001b[0m eta \u001b[36m0:00:00\u001b[0m00:01\u001b[0m00:01\u001b[0m\r\n",
      "\u001b[?25hInstalling collected packages: neo4j\r\n",
      "Successfully installed neo4j-5.28.1\r\n",
      "\r\n",
      "\u001b[1m[\u001b[0m\u001b[34;49mnotice\u001b[0m\u001b[1;39;49m]\u001b[0m\u001b[39;49m A new release of pip is available: \u001b[0m\u001b[31;49m24.0\u001b[0m\u001b[39;49m -> \u001b[0m\u001b[32;49m25.1.1\u001b[0m\r\n",
      "\u001b[1m[\u001b[0m\u001b[34;49mnotice\u001b[0m\u001b[1;39;49m]\u001b[0m\u001b[39;49m To update, run: \u001b[0m\u001b[32;49mpip install --upgrade pip\u001b[0m\r\n"
     ]
    }
   ],
   "source": [
    "!pip install pymongo\n",
    "!pip install neo4j\n"
   ]
  },
  {
   "cell_type": "code",
   "execution_count": 6,
   "id": "12790c5f",
   "metadata": {
    "ExecuteTime": {
     "end_time": "2025-06-20T14:42:39.930073Z",
     "start_time": "2025-06-20T14:42:37.623675Z"
    }
   },
   "outputs": [],
   "source": [
    "from pymongo import MongoClient\n",
    "import os\n",
    "import pandas as pd\n",
    "from neo4j import GraphDatabase"
   ]
  },
  {
   "cell_type": "code",
   "execution_count": 6,
   "id": "43cdeda1",
   "metadata": {
    "ExecuteTime": {
     "end_time": "2025-06-20T14:42:41.740822Z",
     "start_time": "2025-06-20T14:42:41.724884Z"
    }
   },
   "outputs": [],
   "source": [
    "from app.database.neo4j_client import driver"
   ]
  },
  {
   "cell_type": "code",
   "execution_count": 19,
   "id": "dccce83f",
   "metadata": {},
   "outputs": [
    {
     "data": {
      "text/plain": [
       "[{'p.codigo': 90,\n",
       "  'p.nombre': 'Guiso',\n",
       "  'p.marca': 'Pizzini',\n",
       "  'p.precio': 193.02}]"
      ]
     },
     "execution_count": 19,
     "metadata": {},
     "output_type": "execute_result"
    }
   ],
   "source": [
    "with driver.session() as sess:\n",
    "    res = sess.run(\"\"\"\n",
    "MATCH (p:Producto)\n",
    "WHERE NOT (p)<-[:REALIZA_PEDIDO]-(:Orden)\n",
    "RETURN p.codigo, p.nombre, p.marca, p.precio\n",
    "    \"\"\")\n",
    "    proveedores_json = [dict(record) for record in res]\n",
    "\n",
    "proveedores_json"
   ]
  },
  {
   "cell_type": "code",
   "execution_count": null,
   "id": "53e4f655",
   "metadata": {},
   "outputs": [],
   "source": [
    "with driver.session() as sess:\n",
    "    res = sess.run(\"\"\"\n",
    "        MATCH (p:Proveedor)\n",
    "        WHERE NOT (p)<-[:LE_COMPRA_A]-(:Orden)\n",
    "        RETURN p.id_proveedor AS id_proveedor, p.razon_social AS razon_social, p.activo AS activo, p.habilitado AS habilitado\n",
    "    \"\"\")\n",
    "    proveedores_json = [dict(record) for record in res]\n",
    "\n",
    "proveedores_json"
   ]
  },
  {
   "cell_type": "code",
   "execution_count": null,
   "id": "ce0ca1d7",
   "metadata": {},
   "outputs": [],
   "source": [
    "with driver.session() as sess:\n",
    "    res = sess.run(\"\"\"\n",
    "        MATCH (p:Proveedor)\n",
    "        WHERE NOT (p)<-[:LE_COMPRA_A]-(:Orden)\n",
    "        RETURN p.id_proveedor AS id_proveedor, p.razon_social AS razon_social, p.activo AS activo, p.habilitado AS habilitado\n",
    "    \"\"\")\n",
    "    proveedores_json = [dict(record) for record in res]\n",
    "\n",
    "proveedores_json"
   ]
  },
  {
   "cell_type": "code",
   "execution_count": null,
   "id": "ef557dce",
   "metadata": {},
   "outputs": [],
   "source": [
    "with driver.session() as sess:\n",
    "    res = sess.run(\"\"\"\n",
    "        MATCH (p:Proveedor)\n",
    "        WHERE NOT (p)<-[:LE_COMPRA_A]-(:Orden)\n",
    "        RETURN p.id_proveedor AS id_proveedor, p.razon_social AS razon_social, p.activo AS activo, p.habilitado AS habilitado\n",
    "    \"\"\")\n",
    "    proveedores_json = [dict(record) for record in res]\n",
    "\n",
    "proveedores_json"
   ]
  },
  {
   "cell_type": "code",
   "execution_count": 8,
   "id": "71b8522d",
   "metadata": {
    "ExecuteTime": {
     "end_time": "2025-06-20T14:42:43.582192Z",
     "start_time": "2025-06-20T14:42:43.497942Z"
    }
   },
   "outputs": [],
   "source": [
    "mongo = MongoClient(os.getenv(\"MONGO_URI\", \"mongodb://localhost:27017\"))"
   ]
  },
  {
   "cell_type": "code",
   "execution_count": 9,
   "id": "5f448654",
   "metadata": {
    "ExecuteTime": {
     "end_time": "2025-06-20T14:42:44.666670Z",
     "start_time": "2025-06-20T14:42:44.648650Z"
    }
   },
   "outputs": [],
   "source": [
    "mdb = mongo[\"backoffice\"]"
   ]
  },
  {
   "cell_type": "code",
   "execution_count": 10,
   "id": "eb23eddc",
   "metadata": {
    "ExecuteTime": {
     "end_time": "2025-06-20T14:42:45.903181Z",
     "start_time": "2025-06-20T14:42:45.823417Z"
    }
   },
   "outputs": [],
   "source": [
    "df_prov = pd.read_csv(\"data/proveedor.csv\",encoding=\"Windows 1252\",sep=\";\")\n",
    "df_tel  = pd.read_csv(\"data/telefono.csv\",encoding=\"Windows 1252\",sep=\";\")\n",
    "df_prod = pd.read_csv(\"data/producto.csv\",encoding=\"Windows 1252\",sep=\";\")\n",
    "df_op   = pd.read_csv(\"data/op.csv\",encoding=\"Windows 1252\",sep=\";\")\n",
    "df_det  = pd.read_csv(\"data/detalle_op.csv\",encoding=\"Windows 1252\",sep=\";\")"
   ]
  },
  {
   "cell_type": "code",
   "execution_count": null,
   "id": "df1cb1b0",
   "metadata": {},
   "outputs": [],
   "source": []
  },
  {
   "cell_type": "code",
   "execution_count": 11,
   "id": "2bbc284d",
   "metadata": {
    "ExecuteTime": {
     "end_time": "2025-06-20T14:42:49.211638Z",
     "start_time": "2025-06-20T14:42:48.408078Z"
    }
   },
   "outputs": [],
   "source": [
    "res = pd.merge(df_prov,df_tel, on=\"id_proveedor\",how=\"inner\")\n",
    "proveedores = res.groupby(\"id_proveedor\").apply(lambda g: {\n",
    "    'id_proveedor': int(g['id_proveedor'].iloc[0]),\n",
    "    \"CUIT_proveedor\": int(g[\"CUIT_proveedor\"].iloc[0]),\n",
    "    \"razon_social\":g[\"razon_social\"].iloc[0],\n",
    "    \"tipo_sociedad\":g[\"tipo_sociedad\"].iloc[0] ,\n",
    "    \"direccion\":g[\"direccion\"].iloc[0] , \n",
    "    \"activo\" :int(g[\"activo\"].iloc[0]),\n",
    "    \"habilitado\":int(g[\"habilitado\"].iloc[0]),\n",
    "    \"telefonos\": g[['codigo_area', 'nro_telefono', 'tipo']].to_dict(orient='records')\n",
    "}).reset_index(name='document')[\"document\"].to_list()"
   ]
  },
  {
   "cell_type": "code",
   "execution_count": 12,
   "id": "8049a272",
   "metadata": {
    "ExecuteTime": {
     "end_time": "2025-06-20T14:42:53.185441Z",
     "start_time": "2025-06-20T14:42:50.270743Z"
    }
   },
   "outputs": [],
   "source": [
    "res = pd.merge(df_op,df_det,on=\"id_pedido\",how=\"inner\")\n",
    "ordenes = res.groupby('id_pedido').apply(lambda g: {\n",
    "    \"id_pedido\": int(g['id_pedido'].iloc[0]),\n",
    "    'id_proveedor': int(g['id_proveedor'].iloc[0]),\n",
    "    'fecha': g['fecha'].iloc[0],\n",
    "    'iva': float(g['iva'].iloc[0]),\n",
    "    'items': g[['id_producto', 'nro_item', 'cantidad']].to_dict(orient='records')\n",
    "}).reset_index(name='document')[\"document\"].to_list()"
   ]
  },
  {
   "cell_type": "code",
   "execution_count": 13,
   "id": "d10679f1",
   "metadata": {
    "ExecuteTime": {
     "end_time": "2025-06-20T14:43:02.879404Z",
     "start_time": "2025-06-20T14:42:55.213981Z"
    }
   },
   "outputs": [],
   "source": [
    "\n",
    "def import_mongo():\n",
    "\n",
    "    mdb.proveedores.delete_many({})\n",
    "    mdb.proveedores.insert_many(proveedores)\n",
    "\n",
    "    mdb.productos.delete_many({})\n",
    "    mdb.productos.insert_many(df_prod.to_dict(\"records\"))\n",
    "    \n",
    "\n",
    "    mdb.ordenes.delete_many({})\n",
    "    mdb.ordenes.insert_many(ordenes)\n",
    "\n",
    "    \n",
    "import_mongo()"
   ]
  },
  {
   "cell_type": "code",
   "execution_count": 14,
   "id": "1c50d9fa",
   "metadata": {
    "ExecuteTime": {
     "end_time": "2025-06-20T14:43:04.523231Z",
     "start_time": "2025-06-20T14:43:04.478624Z"
    }
   },
   "outputs": [],
   "source": [
    "uri = os.getenv(\"NEO4J_URI\", \"bolt://localhost:7687\")\n",
    "neo = GraphDatabase.driver(uri, auth=(\"neo4j\", os.getenv(\"NEO4J_PASSWORD\", \"epicpassword123\")))"
   ]
  },
  {
   "cell_type": "code",
   "execution_count": 15,
   "id": "b86004c6",
   "metadata": {
    "ExecuteTime": {
     "end_time": "2025-06-20T14:45:12.323605Z",
     "start_time": "2025-06-20T14:43:05.658422Z"
    }
   },
   "outputs": [],
   "source": [
    "def import_neo4j():\n",
    "    with neo.session() as sess:\n",
    "        sess.run(\"MATCH (n) DETACH DELETE n\")\n",
    "        # proveedores\n",
    "        df = pd.read_csv(\"data/proveedor.csv\",encoding=\"Windows 1252\",sep=\";\")\n",
    "        for _,r in df.iterrows():\n",
    "            sess.run(\"\"\"\n",
    "                CREATE (p:Proveedor {\n",
    "                  id_proveedor:$id_proveedor,\n",
    "                  cuit: $CUIT_proveedor,\n",
    "                  razon_social: $razon_social,\n",
    "                  activo: $activo,\n",
    "                  habilitado: $habilitado\n",
    "                })\n",
    "            \"\"\", **r.to_dict())\n",
    "\n",
    "        # RELACIÓN TELEFONO\n",
    "        df = pd.read_csv(\"data/telefono.csv\",encoding=\"Windows 1252\",sep=\";\")\n",
    "        for _,r in df.iterrows():\n",
    "            sess.run(\"\"\"\n",
    "                MATCH (p:Proveedor {id_proveedor: $id_proveedor})\n",
    "                CREATE (p)-[:TIENE_TELEFONO {numero:$telefono}]->(:Telefono)\n",
    "            \"\"\", id_proveedor=r.id_proveedor, telefono=r.nro_telefono)\n",
    "\n",
    "        # productos\n",
    "        df = pd.read_csv(\"data/producto.csv\",encoding=\"Windows 1252\",sep=\";\")\n",
    "        for _,r in df.iterrows():\n",
    "            sess.run(\"\"\"\n",
    "                CREATE (:Producto {\n",
    "                  codigo: $id_producto,\n",
    "                  nombre: $descripcion,\n",
    "                  marca: $marca,\n",
    "                  precio: $precio\n",
    "                })\n",
    "            \"\"\", **r.to_dict())\n",
    "\n",
    "        # ordenes y detalles\n",
    "        df_op = pd.read_csv(\"data/op.csv\",encoding=\"Windows 1252\",sep=\";\")\n",
    "        df_op[\"fecha\"] = pd.to_datetime(df_op[\"fecha\"], dayfirst=True).dt.strftime(\"%Y-%m-%d\")\n",
    "        df_det= pd.read_csv(\"data/detalle_op.csv\",encoding=\"Windows 1252\",sep=\";\")\n",
    "        \n",
    "        for _,o in df_op.iterrows():\n",
    "            sess.run(\"\"\"\n",
    "                CREATE (o:Orden {\n",
    "                     id_pedido:$id_pedido,\n",
    "                     id_proveedor:$id_proveedor,\n",
    "                     iva:$iva,\n",
    "                  fecha: date($fecha)\n",
    "                })\n",
    "                WITH o\n",
    "                MATCH (p:Proveedor {id_proveedor:$id_proveedor})\n",
    "                CREATE (o) - [:LE_COMPRA_A] -> (p)\n",
    "            \"\"\", **o.to_dict())\n",
    "\n",
    "        #Orden tiene (3 de este) producto\n",
    "        \n",
    "        for _,detalle in df_det.iterrows():\n",
    "            sess.run(\"\"\"\n",
    "                MATCH (o:Orden {id_pedido:$id_pedido})\n",
    "                MATCH (p:Producto {codigo: $id_producto})\n",
    "                CREATE (o)-[:REALIZA_PEDIDO {cantidad: $cantidad}] -> (p)\n",
    "            \"\"\", **detalle.to_dict())\n",
    "\n",
    "\n",
    "        for _,d in df_det.iterrows():\n",
    "            sess.run(\"\"\"\n",
    "                MATCH (o:Orden {id_pedido:$id_pedido,id_producto:$id_producto}), (pr:Producto {codigo:$id_producto})\n",
    "                CREATE (o)-[:CONTiene {cantidad:$cantidad}]->(pr)\n",
    "            \"\"\", **d.to_dict())\n",
    "import_neo4j()"
   ]
  },
  {
   "cell_type": "code",
   "execution_count": null,
   "id": "7d02d7fb65776d26",
   "metadata": {
    "collapsed": false
   },
   "outputs": [],
   "source": []
  }
 ],
 "metadata": {
  "kernelspec": {
   "display_name": ".venv",
   "language": "python",
   "name": "python3"
  },
  "language_info": {
   "codemirror_mode": {
    "name": "ipython",
    "version": 3
   },
   "file_extension": ".py",
   "mimetype": "text/x-python",
   "name": "python",
   "nbconvert_exporter": "python",
   "pygments_lexer": "ipython3",
   "version": "3.12.0"
  }
 },
 "nbformat": 4,
 "nbformat_minor": 5
}
