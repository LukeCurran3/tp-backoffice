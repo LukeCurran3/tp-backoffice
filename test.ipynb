{
 "cells": [
  {
   "cell_type": "code",
   "execution_count": 18,
   "id": "12790c5f",
   "metadata": {},
   "outputs": [],
   "source": [
    "from pymongo import MongoClient\n",
    "import os\n",
    "import pandas as pd\n",
    "from neo4j import GraphDatabase"
   ]
  },
  {
   "cell_type": "code",
   "execution_count": 9,
   "id": "71b8522d",
   "metadata": {},
   "outputs": [],
   "source": [
    "mongo = MongoClient(os.getenv(\"MONGO_URI\", \"mongodb://localhost:27017\"))"
   ]
  },
  {
   "cell_type": "code",
   "execution_count": 10,
   "id": "5f448654",
   "metadata": {},
   "outputs": [],
   "source": [
    "mdb = mongo[\"backoffice\"]"
   ]
  },
  {
   "cell_type": "code",
   "execution_count": 17,
   "id": "d10679f1",
   "metadata": {},
   "outputs": [],
   "source": [
    "\n",
    "def import_mongo():\n",
    "    df_prov = pd.read_csv(\"data/proveedor.csv\",encoding=\"Windows 1252\",sep=\";\")\n",
    "    df_tel  = pd.read_csv(\"data/telefono.csv\",encoding=\"Windows 1252\",sep=\";\")\n",
    "    df_prod = pd.read_csv(\"data/producto.csv\",encoding=\"Windows 1252\",sep=\";\")\n",
    "    df_op   = pd.read_csv(\"data/op.csv\",encoding=\"Windows 1252\",sep=\";\")\n",
    "    df_det  = pd.read_csv(\"data/detalle_op.csv\",encoding=\"Windows 1252\",sep=\";\")\n",
    "\n",
    "    mdb.proveedores.delete_many({})\n",
    "    mdb.proveedores.insert_many(df_prov.to_dict(\"records\"))\n",
    "\n",
    "    mdb.telefonos.delete_many({})\n",
    "    mdb.telefonos.insert_many(df_tel.to_dict(\"records\"))\n",
    "\n",
    "    mdb.productos.delete_many({})\n",
    "    mdb.productos.insert_many(df_prod.to_dict(\"records\"))\n",
    "\n",
    "    mdb.ordenes.delete_many({})\n",
    "    mdb.ordenes.insert_many(df_op.to_dict(\"records\"))\n",
    "\n",
    "    mdb.detalles.delete_many({})\n",
    "    mdb.detalles.insert_many(df_det.to_dict(\"records\"))\n",
    "import_mongo()"
   ]
  },
  {
   "cell_type": "code",
   "execution_count": 21,
   "id": "1c50d9fa",
   "metadata": {},
   "outputs": [],
   "source": [
    "uri = os.getenv(\"NEO4J_URI\", \"bolt://localhost:7687\")\n",
    "neo = GraphDatabase.driver(uri, auth=(\"neo4j\", os.getenv(\"NEO4J_PASSWORD\", \"epicpassword123\")))"
   ]
  },
  {
   "cell_type": "code",
   "execution_count": 30,
   "id": "b86004c6",
   "metadata": {},
   "outputs": [],
   "source": [
    "def import_neo4j():\n",
    "    with neo.session() as sess:\n",
    "        sess.run(\"MATCH (n) DETACH DELETE n\")\n",
    "        # proveedores\n",
    "        df = pd.read_csv(\"data/proveedor.csv\",encoding=\"Windows 1252\",sep=\";\")\n",
    "        for _,r in df.iterrows():\n",
    "            sess.run(\"\"\"\n",
    "                CREATE (p:Proveedor {\n",
    "                  id_proveedor:$id_proveedor,\n",
    "                  cuit: $CUIT_proveedor,\n",
    "                  razon_social: $razon_social,\n",
    "                  activo: $activo,\n",
    "                  habilitado: $habilitado\n",
    "                })\n",
    "            \"\"\", **r.to_dict())\n",
    "\n",
    "        # telefonos\n",
    "        df = pd.read_csv(\"data/telefono.csv\",encoding=\"Windows 1252\",sep=\";\")\n",
    "        for _,r in df.iterrows():\n",
    "            sess.run(\"\"\"\n",
    "                MATCH (p:Proveedor {id_proveedor: $id_proveedor})\n",
    "                CREATE (p)-[:TIENE_TELEFONO {numero:$telefono}]->(:Telefono)\n",
    "            \"\"\", id_proveedor=r.id_proveedor, telefono=r.nro_telefono)\n",
    "\n",
    "        # productos\n",
    "        df = pd.read_csv(\"data/producto.csv\",encoding=\"Windows 1252\",sep=\";\")\n",
    "        for _,r in df.iterrows():\n",
    "            sess.run(\"\"\"\n",
    "                CREATE (:Producto {\n",
    "                  codigo: $id_producto,\n",
    "                  nombre: $descripcion,\n",
    "                  marca: $marca,\n",
    "                  precio: $precio\n",
    "                })\n",
    "            \"\"\", **r.to_dict())\n",
    "\n",
    "        # ordenes y detalles\n",
    "        df_op = pd.read_csv(\"data/op.csv\",encoding=\"Windows 1252\",sep=\";\")\n",
    "        df_op[\"fecha\"] = pd.to_datetime(df_op[\"fecha\"], dayfirst=True).dt.strftime(\"%Y-%m-%d\")\n",
    "        df_det= pd.read_csv(\"data/detalle_op.csv\",encoding=\"Windows 1252\",sep=\";\")\n",
    "        for _,o in df_op.iterrows():\n",
    "            sess.run(\"\"\"\n",
    "                CREATE (o:Orden {\n",
    "                     id_pedido:$id_pedido,\n",
    "                     id_proveedor:$id_proveedor,\n",
    "                  fecha: date($fecha)\n",
    "                })\n",
    "            \"\"\", **o.to_dict())\n",
    "        for _,d in df_det.iterrows():\n",
    "            sess.run(\"\"\"\n",
    "                MATCH (o:Orden {id_pedido:$id_pedido,id_producto:$id_producto}), (pr:Producto {codigo:$id_producto})\n",
    "                CREATE (o)-[:CONTiene {cantidad:$cantidad}]->(pr)\n",
    "            \"\"\", **d.to_dict())\n",
    "import_neo4j()"
   ]
  }
 ],
 "metadata": {
  "kernelspec": {
   "display_name": ".venv",
   "language": "python",
   "name": "python3"
  },
  "language_info": {
   "codemirror_mode": {
    "name": "ipython",
    "version": 3
   },
   "file_extension": ".py",
   "mimetype": "text/x-python",
   "name": "python",
   "nbconvert_exporter": "python",
   "pygments_lexer": "ipython3",
   "version": "3.12.0"
  }
 },
 "nbformat": 4,
 "nbformat_minor": 5
}
